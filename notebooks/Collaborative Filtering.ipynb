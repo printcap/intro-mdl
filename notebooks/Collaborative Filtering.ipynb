{
 "cells": [
  {
   "cell_type": "markdown",
   "metadata": {},
   "source": [
    "### Feature Extraction from the MovieLens 100k Dataset"
   ]
  },
  {
   "cell_type": "markdown",
   "metadata": {},
   "source": [
    "MovieLens Dataset (https://grouplens.org/datasets/movielens/100k/) \n",
    "\n",
    "100'000 movie ratings by 1'000 users for 1'700 different movies."
   ]
  },
  {
   "cell_type": "code",
   "execution_count": 1,
   "metadata": {},
   "outputs": [
    {
     "name": "stdout",
     "output_type": "stream",
     "text": [
      "196\t242\t3\t881250949\n"
     ]
    }
   ],
   "source": [
    "lines = sc.textFile(\"../data/ml-100k/u.data\")\n",
    "print(lines.first())\n",
    "# user_id  movie_id  rating  timestamp  "
   ]
  },
  {
   "cell_type": "markdown",
   "metadata": {},
   "source": [
    "Read text file line by line. Split it at '\\t', parse it and create `Row` objects with ratings."
   ]
  },
  {
   "cell_type": "code",
   "execution_count": 2,
   "metadata": {
    "collapsed": true
   },
   "outputs": [],
   "source": [
    "from pyspark.mllib.recommendation import Rating\n",
    "from pyspark.sql import Row\n",
    "ratings_split = lines.map(lambda s: s.split(\"\\t\"))\n",
    "ratings = ratings_split.map(\n",
    "    lambda col: Row(userid=int(col[0]), movieid=int(col[1]), rating=float(col[2]))\n",
    ")"
   ]
  },
  {
   "cell_type": "markdown",
   "metadata": {},
   "source": [
    "Loead titles and movie IDs. Split this text file at `|`. Column 0 is the ID, column 1 is the title of the movie. "
   ]
  },
  {
   "cell_type": "code",
   "execution_count": 3,
   "metadata": {
    "collapsed": true
   },
   "outputs": [],
   "source": [
    "movies = sc.textFile(\"../data/ml-100k/u.item\")\n",
    "titles = movies.map(lambda s: s.split('|')).map(lambda line: (int(line[0]), line[1])).collectAsMap()"
   ]
  },
  {
   "cell_type": "markdown",
   "metadata": {},
   "source": [
    "Show first ten ratings."
   ]
  },
  {
   "cell_type": "code",
   "execution_count": 4,
   "metadata": {},
   "outputs": [
    {
     "name": "stdout",
     "output_type": "stream",
     "text": [
      "196: 3.0  Kolya (1996)\n",
      "186: 3.0  L.A. Confidential (1997)\n",
      " 22: 1.0  Heavyweights (1994)\n",
      "244: 2.0  Legends of the Fall (1994)\n",
      "166: 1.0  Jackie Brown (1997)\n",
      "298: 4.0  Dr. Strangelove or: How I Learned to Stop Worrying and Love the Bomb (1963)\n",
      "115: 2.0  Hunt for Red October, The (1990)\n",
      "253: 5.0  Jungle Book, The (1994)\n",
      "305: 3.0  Grease (1978)\n",
      "  6: 3.0  Remains of the Day, The (1993)\n"
     ]
    }
   ],
   "source": [
    "first10 = ratings.map(lambda r: '{:3d}'.format(r.userid) + \": \"+str(r.rating) + \"  \"+titles[r.movieid]).take(10)\n",
    "for s in first10: print(s)"
   ]
  },
  {
   "cell_type": "markdown",
   "metadata": {},
   "source": [
    "### Training of the ALS Model"
   ]
  },
  {
   "cell_type": "code",
   "execution_count": 5,
   "metadata": {
    "collapsed": true
   },
   "outputs": [],
   "source": [
    "from pyspark.ml.recommendation import ALS"
   ]
  },
  {
   "cell_type": "markdown",
   "metadata": {},
   "source": [
    "Matrix factorization by ALS (Alternate Least Squares) using 10 iterationens and rank 10, that is, 10 latent dimensions. Use 0.01 as regularization parameter."
   ]
  },
  {
   "cell_type": "code",
   "execution_count": 6,
   "metadata": {
    "collapsed": true
   },
   "outputs": [],
   "source": [
    "als = ALS(rank=10, maxIter=10, regParam=0.01, userCol=\"userid\", \n",
    "          itemCol=\"movieid\", ratingCol=\"rating\")"
   ]
  },
  {
   "cell_type": "markdown",
   "metadata": {},
   "source": [
    "Train model (fit)."
   ]
  },
  {
   "cell_type": "code",
   "execution_count": 7,
   "metadata": {
    "collapsed": true
   },
   "outputs": [],
   "source": [
    "ratingsDF = spark.createDataFrame(ratings)\n",
    "model = als.fit(ratingsDF)"
   ]
  },
  {
   "cell_type": "markdown",
   "metadata": {},
   "source": [
    "User factor matrix: Latent features of user 10."
   ]
  },
  {
   "cell_type": "code",
   "execution_count": 8,
   "metadata": {},
   "outputs": [
    {
     "data": {
      "text/plain": [
       "Row(id=10, features=[-0.8963878750801086, -1.1145066022872925, -0.3316730260848999, -0.5937343239784241, -0.29513218998908997, 1.0258771181106567, -0.5694271326065063, 0.6119299530982971, -0.2400534451007843, 0.031482260674238205])"
      ]
     },
     "execution_count": 8,
     "metadata": {},
     "output_type": "execute_result"
    }
   ],
   "source": [
    "model.userFactors.first()"
   ]
  },
  {
   "cell_type": "markdown",
   "metadata": {},
   "source": [
    "item (movie) factor matrix: Latent features of movie with ID 10."
   ]
  },
  {
   "cell_type": "code",
   "execution_count": 9,
   "metadata": {},
   "outputs": [
    {
     "data": {
      "text/plain": [
       "Row(id=10, features=[-0.5647231936454773, -1.4298157691955566, 0.30189287662506104, -0.8106299638748169, -0.23782381415367126, -0.2895015776157379, -1.5579346418380737, 0.9421285390853882, 0.005889199208468199, -0.5461520552635193])"
      ]
     },
     "execution_count": 9,
     "metadata": {},
     "output_type": "execute_result"
    }
   ],
   "source": [
    "model.itemFactors.first()"
   ]
  },
  {
   "cell_type": "markdown",
   "metadata": {},
   "source": [
    "### User-specific Movie Recommendations"
   ]
  },
  {
   "cell_type": "markdown",
   "metadata": {},
   "source": [
    "Ratings provided by user 51."
   ]
  },
  {
   "cell_type": "code",
   "execution_count": 10,
   "metadata": {},
   "outputs": [
    {
     "name": "stdout",
     "output_type": "stream",
     "text": [
      "3.0: GoodFellas (1990)\n",
      "3.0: Ghost and the Darkness, The (1996)\n",
      "4.0: Wizard of Oz, The (1939)\n",
      "4.0: Shawshank Redemption, The (1994)\n",
      "3.0: Conan the Barbarian (1981)\n",
      "4.0: It's a Wonderful Life (1946)\n",
      "1.0: My Fair Lady (1964)\n",
      "5.0: Much Ado About Nothing (1993)\n",
      "3.0: Rear Window (1954)\n",
      "4.0: Unforgiven (1992)\n",
      "3.0: Vertigo (1958)\n",
      "5.0: Princess Bride, The (1987)\n",
      "4.0: Indiana Jones and the Last Crusade (1989)\n",
      "3.0: Army of Darkness (1993)\n",
      "3.0: Stand by Me (1986)\n",
      "4.0: Mr. Smith Goes to Washington (1939)\n",
      "5.0: Die Hard (1988)\n",
      "5.0: Empire Strikes Back, The (1980)\n",
      "2.0: Citizen Kane (1941)\n",
      "5.0: Star Wars (1977)\n",
      "5.0: Return of the Jedi (1983)\n",
      "3.0: American President, The (1995)\n",
      "1.0: Singin' in the Rain (1952)\n"
     ]
    }
   ],
   "source": [
    "user = 51\n",
    "user_ratings = ratings.filter(lambda r: r[\"userid\"]==user).map(\n",
    "    lambda r: str(r[\"rating\"]) + \": \" + titles[r[\"movieid\"]]).collect()\n",
    "for ur in user_ratings: print(ur)"
   ]
  },
  {
   "cell_type": "markdown",
   "metadata": {},
   "source": [
    "Predicted rating for this user for four arbitrarily chosen  movies. "
   ]
  },
  {
   "cell_type": "code",
   "execution_count": 11,
   "metadata": {},
   "outputs": [
    {
     "name": "stdout",
     "output_type": "stream",
     "text": [
      "User 51: predicted rating 4.204 for Clockwork Orange, A (1971)\n",
      "User 51: predicted rating 5.535 for Top Gun (1986)\n",
      "User 51: predicted rating 4.113 for Aliens (1986)\n",
      "User 51: predicted rating 3.599 for Pulp Fiction (1994)\n"
     ]
    }
   ],
   "source": [
    "movies = [56, 176, 161, 179]\n",
    "user_movies = spark.createDataFrame([(user, m) for m in movies], \n",
    "                                    [\"userid\", \"movieid\"])\n",
    "predictions = model.transform(user_movies).rdd.map(\n",
    "    lambda r: \"User \" +str(r[\"userid\"]) + \": predicted rating \" + \n",
    "        \"{:5.3f}\".format(r[\"prediction\"]) + \n",
    "        \" for \" + titles[r[\"movieid\"]]).collect()\n",
    "for p in predictions: print(p)"
   ]
  },
  {
   "cell_type": "markdown",
   "metadata": {},
   "source": [
    "### Comparison of similar movies using latent factors"
   ]
  },
  {
   "cell_type": "code",
   "execution_count": 12,
   "metadata": {},
   "outputs": [
    {
     "name": "stdout",
     "output_type": "stream",
     "text": [
      "Star Wars (1977)\n"
     ]
    }
   ],
   "source": [
    "movie = 50\n",
    "print(titles[movie])"
   ]
  },
  {
   "cell_type": "code",
   "execution_count": 13,
   "metadata": {},
   "outputs": [
    {
     "name": "stdout",
     "output_type": "stream",
     "text": [
      "[-0.22268045 -2.01642227 -0.41178048 -0.42766911  0.06418803  0.75309497\n",
      " -1.22033787  0.57380784 -0.51054227  0.63792366]\n"
     ]
    }
   ],
   "source": [
    "movie_features = model.itemFactors.rdd\n",
    "import numpy as np\n",
    "query_movie = np.array(movie_features.filter(lambda r: r.id == movie).map(lambda r: r.features).first())\n",
    "print(query_movie)"
   ]
  },
  {
   "cell_type": "code",
   "execution_count": 14,
   "metadata": {
    "collapsed": true
   },
   "outputs": [],
   "source": [
    "def cosine_similarity(a, b):\n",
    "    return np.dot(a, b)/(np.linalg.norm(a)*np.linalg.norm(b))"
   ]
  },
  {
   "cell_type": "markdown",
   "metadata": {},
   "source": [
    "Top-10 of the most similar movies to \"Star Wars\". "
   ]
  },
  {
   "cell_type": "code",
   "execution_count": 15,
   "metadata": {},
   "outputs": [
    {
     "name": "stdout",
     "output_type": "stream",
     "text": [
      "1.0: Star Wars (1977)\n",
      "0.996: Empire Strikes Back, The (1980)\n",
      "0.985: Amityville 1992: It's About Time (1992)\n",
      "0.985: Amityville: A New Generation (1993)\n",
      "0.982: Return of the Jedi (1983)\n",
      "0.978: Raiders of the Lost Ark (1981)\n",
      "0.955: Destiny Turns on the Radio (1995)\n",
      "0.954: Groundhog Day (1993)\n",
      "0.95: Star Trek: The Wrath of Khan (1982)\n",
      "0.949: Fish Called Wanda, A (1988)\n"
     ]
    }
   ],
   "source": [
    "top10 = movie_features.map(lambda r: (r.id, cosine_similarity(query_movie, r.features))\n",
    "                  ).sortBy(lambda r: -r[1]).map(lambda r: (titles[r[0]], r[1])).take(10)\n",
    "for t, r in top10: print(\"{:.3}\".format(r)+\": \"+t)"
   ]
  },
  {
   "cell_type": "code",
   "execution_count": null,
   "metadata": {
    "collapsed": true
   },
   "outputs": [],
   "source": []
  }
 ],
 "metadata": {
  "kernelspec": {
   "display_name": "Python 3",
   "language": "python",
   "name": "python3"
  },
  "language_info": {
   "codemirror_mode": {
    "name": "ipython",
    "version": 3
   },
   "file_extension": ".py",
   "mimetype": "text/x-python",
   "name": "python",
   "nbconvert_exporter": "python",
   "pygments_lexer": "ipython3",
   "version": "3.6.2"
  }
 },
 "nbformat": 4,
 "nbformat_minor": 2
}
